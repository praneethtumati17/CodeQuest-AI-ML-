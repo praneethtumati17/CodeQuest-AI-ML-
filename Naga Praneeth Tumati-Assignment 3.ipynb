{
 "cells": [
  {
   "cell_type": "markdown",
   "metadata": {},
   "source": [
    "# Question 1"
   ]
  },
  {
   "cell_type": "code",
   "execution_count": 3,
   "metadata": {},
   "outputs": [
    {
     "name": "stdout",
     "output_type": "stream",
     "text": [
      "Addition:\n",
      "[ 6.5  8.5 10.5 12.5]\n",
      "Subtraction:\n",
      "[-4.5 -4.5 -4.5 -4.5]\n",
      "Multiplication:\n",
      "[ 5.5 13.  22.5 34. ]\n",
      "Division:\n",
      "[0.18181818 0.30769231 0.4        0.47058824]\n"
     ]
    }
   ],
   "source": [
    "import numpy as np\n",
    "x=np.array([1,2,3,4])\n",
    "y=np.array([5.5,6.5,7.5,8.5])\n",
    "print(\"Addition:\")\n",
    "print(np.add(x,y))\n",
    "print(\"Subtraction:\")\n",
    "print(np.subtract(x,y))\n",
    "print(\"Multiplication:\")\n",
    "print(np.multiply(x,y))\n",
    "print(\"Division:\")\n",
    "print(np.divide(x,y))"
   ]
  },
  {
   "cell_type": "markdown",
   "metadata": {},
   "source": [
    "# Question 2"
   ]
  },
  {
   "cell_type": "code",
   "execution_count": 14,
   "metadata": {},
   "outputs": [
    {
     "name": "stdout",
     "output_type": "stream",
     "text": [
      "Square root of array:\n",
      " [[1.         1.41421356]\n",
      " [1.73205081 2.        ]]\n"
     ]
    }
   ],
   "source": [
    "X=np.array([[1,2],[3,4]])\n",
    "p=np.sqrt(X)# for square root of the given array\n",
    "print(\"Square root of array:\\n\",p)"
   ]
  },
  {
   "cell_type": "code",
   "execution_count": 9,
   "metadata": {},
   "outputs": [
    {
     "name": "stdout",
     "output_type": "stream",
     "text": [
      "maximum elements column wise: [3 4]\n",
      "minimum elements column wise: [1 2]\n"
     ]
    }
   ],
   "source": [
    "max_column=X.max(axis=0)#for max element in column..\n",
    "print(\"maximum elements column wise:\",max_column)\n",
    "min_column=X.min(axis=0)#for min element in coulmn..\n",
    "print(\"minimum elements column wise:\",min_column)"
   ]
  },
  {
   "cell_type": "code",
   "execution_count": 11,
   "metadata": {},
   "outputs": [
    {
     "name": "stdout",
     "output_type": "stream",
     "text": [
      "maximum elements row wise: [2 4]\n",
      "minimum elements row wise: [1 3]\n"
     ]
    }
   ],
   "source": [
    "max_row=X.max(axis=1)#for max element in row..\n",
    "print(\"maximum elements row wise:\",max_row)\n",
    "min_row=X.min(axis=1)#for min element in row..\n",
    "print(\"minimum elements row wise:\",min_row)"
   ]
  },
  {
   "cell_type": "code",
   "execution_count": 18,
   "metadata": {},
   "outputs": [
    {
     "name": "stdout",
     "output_type": "stream",
     "text": [
      "Median: 2.5\n",
      "Standard Deviation: 1.118033988749895\n",
      "Mean: 2.5\n",
      "Exponentiation of array:\n",
      " [[ 2.71828183  7.3890561 ]\n",
      " [20.08553692 54.59815003]]\n"
     ]
    }
   ],
   "source": [
    "median=np.median(X)#for median\n",
    "print(\"Median:\",median)\n",
    "std_dev=X.std()#for standard deviation\n",
    "print(\"Standard Deviation:\",std_dev)\n",
    "mean=X.mean()#for mean\n",
    "print(\"Mean:\",mean)\n",
    "exponent=np.exp(X)#for exponent...\n",
    "print(\"Exponentiation of array:\\n\",exponent)"
   ]
  }
 ],
 "metadata": {
  "kernelspec": {
   "display_name": "Python 3",
   "language": "python",
   "name": "python3"
  },
  "language_info": {
   "codemirror_mode": {
    "name": "ipython",
    "version": 3
   },
   "file_extension": ".py",
   "mimetype": "text/x-python",
   "name": "python",
   "nbconvert_exporter": "python",
   "pygments_lexer": "ipython3",
   "version": "3.7.6"
  }
 },
 "nbformat": 4,
 "nbformat_minor": 4
}
